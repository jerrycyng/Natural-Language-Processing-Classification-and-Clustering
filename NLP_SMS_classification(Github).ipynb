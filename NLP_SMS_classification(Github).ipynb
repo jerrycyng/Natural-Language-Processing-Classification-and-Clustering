{
  "nbformat": 4,
  "nbformat_minor": 0,
  "metadata": {
    "colab": {
      "name": "NLP SMS classification(Github).ipynb",
      "provenance": [],
      "collapsed_sections": [],
      "include_colab_link": true
    },
    "kernelspec": {
      "display_name": "Python 3",
      "language": "python",
      "name": "python3"
    },
    "language_info": {
      "codemirror_mode": {
        "name": "ipython",
        "version": 3
      },
      "file_extension": ".py",
      "mimetype": "text/x-python",
      "name": "python",
      "nbconvert_exporter": "python",
      "pygments_lexer": "ipython3",
      "version": "3.8.8"
    }
  },
  "cells": [
    {
      "cell_type": "markdown",
      "metadata": {
        "id": "view-in-github",
        "colab_type": "text"
      },
      "source": [
        "<a href=\"https://colab.research.google.com/github/jerrycyng/Natural-Language-Processing-Classification-and-Clustering/blob/main/NLP_SMS_classification(Github).ipynb\" target=\"_parent\"><img src=\"https://colab.research.google.com/assets/colab-badge.svg\" alt=\"Open In Colab\"/></a>"
      ]
    },
    {
      "cell_type": "code",
      "metadata": {
        "id": "GCr496KxrlGP"
      },
      "source": [
        "from sklearn.svm import SVC , LinearSVC\n",
        "from sklearn.model_selection import GridSearchCV\n",
        "import pandas as pd\n",
        "from sklearn.feature_extraction.text import CountVectorizer, TfidfVectorizer\n",
        "import numpy as np\n",
        "from sklearn.naive_bayes import MultinomialNB\n",
        "from sklearn.linear_model import SGDClassifier\n",
        "from sklearn.pipeline import Pipeline\n",
        "import pandas as pd \n",
        "import seaborn as sns \n",
        "import matplotlib.pyplot as plt\n"
      ],
      "execution_count": null,
      "outputs": []
    },
    {
      "cell_type": "code",
      "metadata": {
        "colab": {
          "base_uri": "https://localhost:8080/"
        },
        "id": "vJPSGieKdLn3",
        "outputId": "607626df-38b1-43a4-fc5b-4a9f7f843404"
      },
      "source": [
        "from google.colab import drive\n",
        "drive.mount('/content/drive')\n",
        "path =\"/content/drive/MyDrive/SMSSpamCollection.csv\"\n",
        "df= pd.read_csv(path)\n",
        "df\n",
        "x = df[\"Subject\"]\n",
        "y = df[\"Category\"]"
      ],
      "execution_count": null,
      "outputs": [
        {
          "output_type": "stream",
          "name": "stdout",
          "text": [
            "Drive already mounted at /content/drive; to attempt to forcibly remount, call drive.mount(\"/content/drive\", force_remount=True).\n"
          ]
        }
      ]
    },
    {
      "cell_type": "code",
      "metadata": {
        "id": "0bdDOlsIZoEP"
      },
      "source": [
        "#Reference \n",
        "#https://github.com/abeizer/email-subject-prediction/blob/master/Classification-stopwords.ipynb"
      ],
      "execution_count": null,
      "outputs": []
    },
    {
      "cell_type": "code",
      "metadata": {
        "id": "t-JtTMqvrlGX"
      },
      "source": [
        "x_train, y_train = x[0:2786],y[0:2786]\n",
        "x_test, y_test = x[2786:], y[2786:]"
      ],
      "execution_count": null,
      "outputs": []
    },
    {
      "cell_type": "code",
      "metadata": {
        "colab": {
          "base_uri": "https://localhost:8080/"
        },
        "id": "uGvd7csadLn5",
        "outputId": "5a37f1bc-4559-4272-c1b6-8b0c22738c72"
      },
      "source": [
        "print(x_train.shape)\n",
        "print(x_test.shape)\n",
        "print(y_train.shape)\n",
        "print(y_test.shape)"
      ],
      "execution_count": null,
      "outputs": [
        {
          "name": "stdout",
          "output_type": "stream",
          "text": [
            "(2786,)\n",
            "(2786,)\n",
            "(2786,)\n",
            "(2786,)\n"
          ]
        }
      ]
    },
    {
      "cell_type": "markdown",
      "metadata": {
        "id": "q0-UnLGsvwct"
      },
      "source": [
        "What is CountVectorizer?\n",
        "\n",
        "CountVectorizer is used to transform a given text into a vector on the basis of the frequency of each word that occurs in the entire text. "
      ]
    },
    {
      "cell_type": "code",
      "metadata": {
        "id": "q0BLva3DdLn6"
      },
      "source": [
        "#CountVectorizer \n",
        "cv_count= CountVectorizer()\n",
        "features_count = cv_count.fit_transform(x_train)\n",
        "features_test_count= cv_count.transform(x_test)\n",
        "#cv_count.vocabulary_"
      ],
      "execution_count": null,
      "outputs": []
    },
    {
      "cell_type": "markdown",
      "metadata": {
        "id": "7slmw5GCxZ4s"
      },
      "source": [
        "What is Tfidf Vectorizer? \n",
        "\n",
        "TF-IDF means Term Frequency - Inverse Document Frequency. This is a statistic that is based on the frequency of a word in the corpus but it also provides a numerical representation of how important a word is for statistical analysis."
      ]
    },
    {
      "cell_type": "code",
      "metadata": {
        "id": "p0PeZIdEVGXq"
      },
      "source": [
        "#TfidfVectorizer\n",
        "tf= TfidfVectorizer()\n",
        "features_tf = tf.fit_transform(x_train)\n",
        "features_test_tf= tf.transform(x_test)"
      ],
      "execution_count": null,
      "outputs": []
    },
    {
      "cell_type": "markdown",
      "metadata": {
        "id": "fRT415RwUxLW"
      },
      "source": [
        "What is Naive Bayes algorithm?\n",
        "\n",
        "It is a classification technique based on Bayes’ Theorem with an assumption of independence among predictors. In simple terms, a Naive Bayes classifier assumes that the presence of a particular feature in a class is unrelated to the presence of any other feature."
      ]
    },
    {
      "cell_type": "code",
      "metadata": {
        "colab": {
          "base_uri": "https://localhost:8080/"
        },
        "id": "v7hc-GSvdLn7",
        "outputId": "f82b1044-4381-4daf-b339-45c594716d20"
      },
      "source": [
        "#Naive bayes score with CountVectorizer \n",
        "n_bayes = MultinomialNB()\n",
        "n_bayes.fit(features_count, y_train)\n",
        "n_bayes.score(features_test_count,y_test)"
      ],
      "execution_count": null,
      "outputs": [
        {
          "output_type": "execute_result",
          "data": {
            "text/plain": [
              "0.9838478104809764"
            ]
          },
          "metadata": {},
          "execution_count": 8
        }
      ]
    },
    {
      "cell_type": "code",
      "metadata": {
        "colab": {
          "base_uri": "https://localhost:8080/"
        },
        "id": "Km_teFcJVxQt",
        "outputId": "84d3554a-b934-4bfb-fdb6-81744a9674fb"
      },
      "source": [
        "#Naive bayes score with TfidfVectorizer\n",
        "n_bayes = MultinomialNB()\n",
        "n_bayes.fit(features_tf, y_train)\n",
        "n_bayes.score(features_test_tf,y_test)"
      ],
      "execution_count": null,
      "outputs": [
        {
          "output_type": "execute_result",
          "data": {
            "text/plain": [
              "0.9490308686288585"
            ]
          },
          "metadata": {},
          "execution_count": 9
        }
      ]
    },
    {
      "cell_type": "markdown",
      "metadata": {
        "id": "Jw5YxhvsXbU8"
      },
      "source": [
        "What is SVC? \n",
        "\n",
        "C-Support Vector Classification is a nonparametric clustering algorithm that does not make any assumption on the number or shape of the clusters in the data. "
      ]
    },
    {
      "cell_type": "code",
      "metadata": {
        "colab": {
          "base_uri": "https://localhost:8080/"
        },
        "id": "XUcq6tbXdLn8",
        "outputId": "9b0ed662-145e-4954-fb3a-e1dc17557658"
      },
      "source": [
        "#SVC with CountVectorizer \n",
        "svc = SVC()\n",
        "svc.fit(features_count, y_train)\n",
        "svc.score(features_test_count, y_test)"
      ],
      "execution_count": null,
      "outputs": [
        {
          "output_type": "execute_result",
          "data": {
            "text/plain": [
              "0.9781048097631012"
            ]
          },
          "metadata": {},
          "execution_count": 10
        }
      ]
    },
    {
      "cell_type": "code",
      "metadata": {
        "colab": {
          "base_uri": "https://localhost:8080/"
        },
        "id": "03QnYYArV8t7",
        "outputId": "1bc44958-5f4b-4864-854b-53247740ee96"
      },
      "source": [
        "#SVC score with TfidfVectorizer\n",
        "svc = SVC()\n",
        "svc.fit(features_tf, y_train)\n",
        "svc.score(features_test_tf, y_test)"
      ],
      "execution_count": null,
      "outputs": [
        {
          "output_type": "execute_result",
          "data": {
            "text/plain": [
              "0.9777458722182341"
            ]
          },
          "metadata": {},
          "execution_count": 11
        }
      ]
    },
    {
      "cell_type": "markdown",
      "metadata": {
        "id": "oM67lQJfY7v8"
      },
      "source": [
        "LinearSVC is SVC with parameter kernel=’linear’"
      ]
    },
    {
      "cell_type": "code",
      "metadata": {
        "colab": {
          "base_uri": "https://localhost:8080/"
        },
        "id": "VTGv1_1GdLn8",
        "outputId": "2af2be41-c187-4d85-9b0c-a69e47f4d447"
      },
      "source": [
        "#LinearSVC with CountVectorizer \n",
        "svc_linear= LinearSVC()\n",
        "svc_linear.fit(features_count, y_train)\n",
        "svc_linear.score(features_test_count, y_test)"
      ],
      "execution_count": null,
      "outputs": [
        {
          "output_type": "execute_result",
          "data": {
            "text/plain": [
              "0.9806173725771715"
            ]
          },
          "metadata": {},
          "execution_count": 12
        }
      ]
    },
    {
      "cell_type": "code",
      "metadata": {
        "colab": {
          "base_uri": "https://localhost:8080/"
        },
        "id": "4PEqxDn4WJEO",
        "outputId": "618d0fa3-e8fc-4c70-d18c-a24bad186f84"
      },
      "source": [
        "#LinearSVC with TfidfVectorizer\n",
        "svc_linear= LinearSVC()\n",
        "svc_linear.fit(features_tf, y_train)\n",
        "svc_linear.score(features_test_tf, y_test)"
      ],
      "execution_count": null,
      "outputs": [
        {
          "output_type": "execute_result",
          "data": {
            "text/plain": [
              "0.9849246231155779"
            ]
          },
          "metadata": {},
          "execution_count": 13
        }
      ]
    },
    {
      "cell_type": "markdown",
      "metadata": {
        "id": "wWVOxrVcZI5I"
      },
      "source": [
        "What is SGDClassifier?\n",
        "\n",
        "Stochastic Gradient Descent Classifier is an optimization method and does not correspond to a specific family of machine learning models. It is a simple yet very efficient approach to fitting linear classifiers and regressors under convex loss functions. "
      ]
    },
    {
      "cell_type": "code",
      "metadata": {
        "colab": {
          "base_uri": "https://localhost:8080/"
        },
        "id": "bPR_1GMQdLn-",
        "outputId": "0ad8e7a0-8232-4f42-cba4-4d12f1f1ebc1"
      },
      "source": [
        "#SGDClassifier with CountVectorizer\n",
        "sgd=  SGDClassifier(loss='hinge')\n",
        "sgd.fit(features_count, y_train)\n",
        "sgd.score(features_test_count, y_test)"
      ],
      "execution_count": null,
      "outputs": [
        {
          "output_type": "execute_result",
          "data": {
            "text/plain": [
              "0.9773869346733668"
            ]
          },
          "metadata": {},
          "execution_count": 14
        }
      ]
    },
    {
      "cell_type": "code",
      "metadata": {
        "colab": {
          "base_uri": "https://localhost:8080/"
        },
        "id": "kayCOBduWWmU",
        "outputId": "ef6d9430-8715-4533-b90a-2287acd1bd51"
      },
      "source": [
        "#SGDClassifier with TfidfVectorizer\n",
        "sgd=  SGDClassifier(loss='hinge')\n",
        "sgd.fit(features_tf, y_train)\n",
        "sgd.score(features_test_tf, y_test)"
      ],
      "execution_count": null,
      "outputs": [
        {
          "output_type": "execute_result",
          "data": {
            "text/plain": [
              "0.9842067480258435"
            ]
          },
          "metadata": {},
          "execution_count": 15
        }
      ]
    },
    {
      "cell_type": "markdown",
      "metadata": {
        "id": "1wiIsAHvXONU"
      },
      "source": [
        "As described above, the combination of LinearSVC and TfidfVectorizer has the best performance among all others models. \n",
        "\n",
        "In the below, we will perform hypertune the parameters for this combination. "
      ]
    },
    {
      "cell_type": "code",
      "metadata": {
        "id": "1QbaA9hGYSHu"
      },
      "source": [
        "#LinearSVC Pipeline\n",
        "lin_svc_pipeline = Pipeline([('tfidf', TfidfVectorizer()),\n",
        "                          ('svm', LinearSVC())])\n",
        "\n",
        "# LinearSVC Parameters\n",
        "lin_svc_params = {'tfidf__max_df': (0.25, 0.5, 0.75,1.0),\n",
        "                  'svm__C': (0.2, 0.3,0.4,0.5,0.6,0.7,0.8,0.9,1.0),\n",
        "                  'svm__tol': (1e-3, 1e-4,1e-5,1e-6,1e-7),\n",
        "                  'svm__dual': (True, False),\n",
        "                  'tfidf__ngram_range': [(1, 1), (1, 2), (1, 3),(1,4)]\n",
        "                }               "
      ],
      "execution_count": null,
      "outputs": []
    },
    {
      "cell_type": "code",
      "metadata": {
        "colab": {
          "base_uri": "https://localhost:8080/",
          "height": 146
        },
        "id": "skeIEo9wdLoA",
        "outputId": "0bef63db-77c7-4b52-e706-8453fcd9bc05"
      },
      "source": [
        "'''\n",
        "# LinearSVC Pipeline\n",
        "lin_svc_pipeline = Pipeline([('vect', CountVectorizer()),\n",
        "                          ('svm', LinearSVC())])\n",
        "\n",
        "# LinearSVC Parameters\n",
        "lin_svc_params = {'vect__ngram_range': [(1, 1), (1, 2),(1,3),(1,4)],\n",
        "                  'svm__C': (0.2, 0.3,0.4,0.5,0.6,0.7,0.8,0.9,1.0),\n",
        "                  'svm__tol': (1e-3, 1e-4,1e-5,1e-6,1e-7),\n",
        "                  'svm__dual': (True, False),\n",
        "                  'vect__max_features':(None, 5000, 10000, 50000),\n",
        "                }               \n",
        "'''   "
      ],
      "execution_count": null,
      "outputs": [
        {
          "data": {
            "application/vnd.google.colaboratory.intrinsic+json": {
              "type": "string"
            },
            "text/plain": [
              "\"\\n# LinearSVC Pipeline\\nlin_svc_pipeline = Pipeline([('vect', CountVectorizer()),\\n                          ('svm', LinearSVC())])\\n\\n# LinearSVC Parameters\\nlin_svc_params = {'vect__ngram_range': [(1, 1), (1, 2),(1,3),(1,4)],\\n                  'svm__C': (0.2, 0.3,0.4,0.5,0.6,0.7,0.8,0.9,1.0),\\n                  'svm__tol': (1e-3, 1e-4,1e-5,1e-6,1e-7),\\n                  'svm__dual': (True, False),\\n                  'vect__max_features':(None, 5000, 10000, 50000),\\n                }               \\n\""
            ]
          },
          "execution_count": 48,
          "metadata": {},
          "output_type": "execute_result"
        }
      ]
    },
    {
      "cell_type": "code",
      "metadata": {
        "id": "LA9BQWr3dLoB",
        "scrolled": true
      },
      "source": [
        "gridSearch = GridSearchCV(lin_svc_pipeline, lin_svc_params, n_jobs=-1)\n",
        "#gridSearch = GridSearchCV(lin_svc_pipeline, lin_svc_params, n_jobs=-1, verbose=1, cv=5)\n",
        "gridSearch = gridSearch.fit(x_train, y_train)"
      ],
      "execution_count": null,
      "outputs": []
    },
    {
      "cell_type": "code",
      "metadata": {
        "colab": {
          "base_uri": "https://localhost:8080/"
        },
        "id": "F-f9ljvtdLoD",
        "outputId": "8da3df1d-9850-4328-8f65-160c1fd3f510"
      },
      "source": [
        "print(gridSearch.best_score_)\n",
        "print(gridSearch.best_params_)"
      ],
      "execution_count": null,
      "outputs": [
        {
          "output_type": "stream",
          "name": "stdout",
          "text": [
            "0.9845640045558965\n",
            "{'svm__C': 0.7, 'svm__dual': True, 'svm__tol': 0.001, 'tfidf__max_df': 0.5, 'tfidf__ngram_range': (1, 2)}\n"
          ]
        }
      ]
    },
    {
      "cell_type": "code",
      "metadata": {
        "id": "g8eqwm-UEote"
      },
      "source": [
        "tf_adjusted= TfidfVectorizer(max_df=0.5,ngram_range=(1, 2))\n",
        "features_adjusted= tf_adjusted.fit_transform(x_train)"
      ],
      "execution_count": null,
      "outputs": []
    },
    {
      "cell_type": "code",
      "metadata": {
        "colab": {
          "base_uri": "https://localhost:8080/"
        },
        "id": "iRpetqvjdLoD",
        "outputId": "0592cd1a-c447-4971-f513-dcc9b0c33e56"
      },
      "source": [
        "svc_linear_adjusted= LinearSVC(C=0.7,tol=0.001,dual=True)\n",
        "svc_linear_adjusted.fit(features_adjusted,y_train)"
      ],
      "execution_count": null,
      "outputs": [
        {
          "output_type": "execute_result",
          "data": {
            "text/plain": [
              "LinearSVC(C=0.7, class_weight=None, dual=True, fit_intercept=True,\n",
              "          intercept_scaling=1, loss='squared_hinge', max_iter=1000,\n",
              "          multi_class='ovr', penalty='l2', random_state=None, tol=0.001,\n",
              "          verbose=0)"
            ]
          },
          "metadata": {},
          "execution_count": 18
        }
      ]
    },
    {
      "cell_type": "code",
      "metadata": {
        "colab": {
          "base_uri": "https://localhost:8080/"
        },
        "id": "ZCHkd6XYHN_q",
        "outputId": "49558588-f789-4d6c-9aed-19e87e476f92"
      },
      "source": [
        "features_test_adjusted= tf_adjusted.transform(x_test)\n",
        "\n",
        "print(\"Accuracy: \", svc_linear_adjusted.score(features_test_adjusted,y_test))\n",
        "\n",
        "predictions = svc_linear_adjusted.predict(features_test_adjusted)\n",
        "predict = pd.DataFrame(predictions)\n"
      ],
      "execution_count": 63,
      "outputs": [
        {
          "output_type": "stream",
          "name": "stdout",
          "text": [
            "Accuracy:  0.9834888729361091\n"
          ]
        }
      ]
    },
    {
      "cell_type": "markdown",
      "metadata": {
        "id": "L_JR-LmnpmXm"
      },
      "source": [
        "make_confusion_matrix() \n",
        "\n",
        "https://github.com/DTrimarchi10/confusion_matrix/blob/master/cf_matrix.py"
      ]
    },
    {
      "cell_type": "code",
      "metadata": {
        "id": "CYH-O5Sxo_aD"
      },
      "source": [
        "def make_confusion_matrix(cf,\n",
        "                          group_names=None,\n",
        "                          categories='auto',\n",
        "                          count=True,\n",
        "                          percent=True,\n",
        "                          cbar=True,\n",
        "                          xyticks=True,\n",
        "                          xyplotlabels=True,\n",
        "                          sum_stats=True,\n",
        "                          figsize=None,\n",
        "                          title=None):\n",
        "  \n",
        "    # CODE TO GENERATE TEXT INSIDE EACH SQUARE\n",
        "    blanks = ['' for i in range(cf.size)]\n",
        "\n",
        "    if group_names and len(group_names)==cf.size:\n",
        "        group_labels = [\"{}\\n\".format(value) for value in group_names]\n",
        "    else:\n",
        "        group_labels = blanks\n",
        "\n",
        "    if count:\n",
        "        group_counts = [\"{0:0.0f}\\n\".format(value) for value in cf.flatten()]\n",
        "    else:\n",
        "        group_counts = blanks\n",
        "\n",
        "    if percent:\n",
        "        group_percentages = [\"{0:.2%}\".format(value) for value in cf.flatten()/np.sum(cf)]\n",
        "    else:\n",
        "        group_percentages = blanks\n",
        "\n",
        "    box_labels = [f\"{v1}{v2}{v3}\".strip() for v1, v2, v3 in zip(group_labels,group_counts,group_percentages)]\n",
        "    box_labels = np.asarray(box_labels).reshape(cf.shape[0],cf.shape[1])\n",
        "\n",
        "\n",
        "    # CODE TO GENERATE SUMMARY STATISTICS & TEXT FOR SUMMARY STATS\n",
        "    if sum_stats:\n",
        "        #Accuracy is sum of diagonal divided by total observations\n",
        "        accuracy  = np.trace(cf) / float(np.sum(cf))\n",
        "\n",
        "        #if it is a binary confusion matrix, show some more stats\n",
        "        if len(cf)==2:\n",
        "            #Metrics for Binary Confusion Matrices\n",
        "            precision = cf[1,1] / sum(cf[:,1])\n",
        "            recall    = cf[1,1] / sum(cf[1,:])\n",
        "            f1_score  = 2*precision*recall / (precision + recall)\n",
        "            stats_text = \"\\n\\nAccuracy={:0.3f}\\nPrecision={:0.3f}\\nRecall={:0.3f}\\nF1 Score={:0.3f}\".format(\n",
        "                accuracy,precision,recall,f1_score)\n",
        "        else:\n",
        "            stats_text = \"\\n\\nAccuracy={:0.3f}\".format(accuracy)\n",
        "    else:\n",
        "        stats_text = \"\"\n",
        "\n",
        "\n",
        "    # SET FIGURE PARAMETERS ACCORDING TO OTHER ARGUMENTS\n",
        "    if figsize==None:\n",
        "        #Get default figure size if not set\n",
        "        figsize = plt.rcParams.get('figure.figsize')\n",
        "\n",
        "    if xyticks==False:\n",
        "        #Do not show categories if xyticks is False\n",
        "        categories=False\n",
        "\n",
        "\n",
        "    # MAKE THE HEATMAP VISUALIZATION\n",
        "    plt.figure(figsize=figsize)\n",
        "    sns.heatmap(cf,annot=box_labels,fmt=\"\",cbar=cbar,xticklabels=categories,yticklabels=categories)\n",
        "\n",
        "    if xyplotlabels:\n",
        "        plt.ylabel('True label')\n",
        "        plt.xlabel('Predicted label' + stats_text)\n",
        "    else:\n",
        "        plt.xlabel(stats_text)\n",
        "    \n",
        "    if title:\n",
        "        plt.title(title)"
      ],
      "execution_count": 61,
      "outputs": []
    },
    {
      "cell_type": "code",
      "metadata": {
        "colab": {
          "base_uri": "https://localhost:8080/",
          "height": 337
        },
        "id": "lqhuE-pTYR6x",
        "outputId": "9308a181-8909-44b3-cffe-0d6d414daf9e"
      },
      "source": [
        "from sklearn.metrics import classification_report, confusion_matrix\n",
        "cf_matrix= confusion_matrix(y_test,predictions)\n",
        "df_name=['True Ham','False Ham','False Spam','True Spam']\n",
        "df_categories= ['Ham','Spam']\n",
        "make_confusion_matrix(cf_matrix, group_names=df_name,categories=df_categories)\n",
        "#print(classification_report(y_test,predictions))"
      ],
      "execution_count": 62,
      "outputs": [
        {
          "output_type": "display_data",
          "data": {
            "image/png": "[encoded data removed]",
            "text/plain": [
              "<Figure size 432x288 with 2 Axes>"
            ]
          },
          "metadata": {
            "needs_background": "light"
          }
        }
      ]
    },
    {
      "cell_type": "code",
      "metadata": {
        "colab": {
          "base_uri": "https://localhost:8080/",
          "height": 424
        },
        "id": "T-DMiMfrdLoJ",
        "outputId": "d983e030-9718-4d84-f900-1261c089fbaa"
      },
      "source": [
        "x_test.reset_index(drop=True, inplace=True)\n",
        "y_test.reset_index(drop=True, inplace=True)\n",
        "predict.reset_index(drop=True, inplace=True)\n",
        "result = pd.concat([x_test, y_test, predict], axis=1,ignore_index=True)\n",
        "result.columns =['SMS','real','predicted']\n",
        "result"
      ],
      "execution_count": null,
      "outputs": [
        {
          "output_type": "execute_result",
          "data": {
            "text/html": [
              "<div>\n",
              "<style scoped>\n",
              "    .dataframe tbody tr th:only-of-type {\n",
              "        vertical-align: middle;\n",
              "    }\n",
              "\n",
              "    .dataframe tbody tr th {\n",
              "        vertical-align: top;\n",
              "    }\n",
              "\n",
              "    .dataframe thead th {\n",
              "        text-align: right;\n",
              "    }\n",
              "</style>\n",
              "<table border=\"1\" class=\"dataframe\">\n",
              "  <thead>\n",
              "    <tr style=\"text-align: right;\">\n",
              "      <th></th>\n",
              "      <th>SMS</th>\n",
              "      <th>real</th>\n",
              "      <th>predicted</th>\n",
              "    </tr>\n",
              "  </thead>\n",
              "  <tbody>\n",
              "    <tr>\n",
              "      <th>0</th>\n",
              "      <td>Yeah get the unlimited</td>\n",
              "      <td>ham</td>\n",
              "      <td>ham</td>\n",
              "    </tr>\n",
              "    <tr>\n",
              "      <th>1</th>\n",
              "      <td>cThen i thk shd b enuff.. Still got conclusion...</td>\n",
              "      <td>ham</td>\n",
              "      <td>ham</td>\n",
              "    </tr>\n",
              "    <tr>\n",
              "      <th>2</th>\n",
              "      <td>Forgot it takes me 3 years to shower, sorry. W...</td>\n",
              "      <td>ham</td>\n",
              "      <td>ham</td>\n",
              "    </tr>\n",
              "    <tr>\n",
              "      <th>3</th>\n",
              "      <td>Ü got wat to buy tell us then ü no need to com...</td>\n",
              "      <td>ham</td>\n",
              "      <td>ham</td>\n",
              "    </tr>\n",
              "    <tr>\n",
              "      <th>4</th>\n",
              "      <td>When you are big..| God will bring success.</td>\n",
              "      <td>ham</td>\n",
              "      <td>ham</td>\n",
              "    </tr>\n",
              "    <tr>\n",
              "      <th>...</th>\n",
              "      <td>...</td>\n",
              "      <td>...</td>\n",
              "      <td>...</td>\n",
              "    </tr>\n",
              "    <tr>\n",
              "      <th>2781</th>\n",
              "      <td>This is the 2nd time we have tried 2 contact u...</td>\n",
              "      <td>spam</td>\n",
              "      <td>spam</td>\n",
              "    </tr>\n",
              "    <tr>\n",
              "      <th>2782</th>\n",
              "      <td>Will ü b going to esplanade fr home?</td>\n",
              "      <td>ham</td>\n",
              "      <td>ham</td>\n",
              "    </tr>\n",
              "    <tr>\n",
              "      <th>2783</th>\n",
              "      <td>Pity, * was in mood for that. So...any other s...</td>\n",
              "      <td>ham</td>\n",
              "      <td>ham</td>\n",
              "    </tr>\n",
              "    <tr>\n",
              "      <th>2784</th>\n",
              "      <td>The guy did some bitching but I acted like i'd...</td>\n",
              "      <td>ham</td>\n",
              "      <td>ham</td>\n",
              "    </tr>\n",
              "    <tr>\n",
              "      <th>2785</th>\n",
              "      <td>Rofl. Its true to its name</td>\n",
              "      <td>ham</td>\n",
              "      <td>ham</td>\n",
              "    </tr>\n",
              "  </tbody>\n",
              "</table>\n",
              "<p>2786 rows × 3 columns</p>\n",
              "</div>"
            ],
            "text/plain": [
              "                                                    SMS  real predicted\n",
              "0                                Yeah get the unlimited   ham       ham\n",
              "1     cThen i thk shd b enuff.. Still got conclusion...   ham       ham\n",
              "2     Forgot it takes me 3 years to shower, sorry. W...   ham       ham\n",
              "3     Ü got wat to buy tell us then ü no need to com...   ham       ham\n",
              "4           When you are big..| God will bring success.   ham       ham\n",
              "...                                                 ...   ...       ...\n",
              "2781  This is the 2nd time we have tried 2 contact u...  spam      spam\n",
              "2782               Will ü b going to esplanade fr home?   ham       ham\n",
              "2783  Pity, * was in mood for that. So...any other s...   ham       ham\n",
              "2784  The guy did some bitching but I acted like i'd...   ham       ham\n",
              "2785                         Rofl. Its true to its name   ham       ham\n",
              "\n",
              "[2786 rows x 3 columns]"
            ]
          },
          "metadata": {},
          "execution_count": 56
        }
      ]
    }
  ]
}